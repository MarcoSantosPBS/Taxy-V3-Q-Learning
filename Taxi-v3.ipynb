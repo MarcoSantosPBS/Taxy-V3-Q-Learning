{
 "cells": [
  {
   "cell_type": "code",
   "execution_count": 1,
   "metadata": {},
   "outputs": [],
   "source": [
    "import gym\n",
    "import sys\n",
    "import numpy as np\n",
    "import math\n",
    "from collections import defaultdict, deque"
   ]
  },
  {
   "cell_type": "code",
   "execution_count": 2,
   "metadata": {},
   "outputs": [],
   "source": [
    "env = gym.make('Taxi-v3')"
   ]
  },
  {
   "cell_type": "code",
   "execution_count": 3,
   "metadata": {},
   "outputs": [],
   "source": [
    "def escolher_acao(Q_s, epsilon, num_acoes):\n",
    "    \n",
    "    utlizar_greedy_policy = np.random.random()\n",
    "    \n",
    "    if utlizar_greedy_policy < epsilon:\n",
    "        return np.random.choice(np.arange(num_acoes))\n",
    "    else:\n",
    "        return np.argmax(Q_s)\n",
    "    \n",
    "def atualizar_Q(Q_sa, Q_sa_next, reward, alpha, gamma, gamma_uprate, max_gamma):\n",
    "    \n",
    "    return Q_sa + (alpha*(reward + (gamma*Q_sa_next) - Q_sa))\n",
    "\n",
    "def obter_expected_Q(Q_s, epsilon, num_acoes):\n",
    "    \n",
    "    probs = np.ones(num_acoes) * epsilon/num_acoes\n",
    "    best_a = np.argmax(Q_s)\n",
    "    probs[best_a] = 1- epsilon + (epsilon/num_acoes)\n",
    "    \n",
    "    return sum(probs* Q_s)"
   ]
  },
  {
   "cell_type": "code",
   "execution_count": 4,
   "metadata": {},
   "outputs": [],
   "source": [
    "def QLearning(env, num_episodes, gamma, alpha, epsilon = 0.0, gamma_uprate= 0.0001, max_gamma = 1.0, eps_decay = 0.999, eps_min = 0.005):\n",
    "    \n",
    "    # initialize average rewards\n",
    "    avg_rewards = deque(maxlen=num_episodes)\n",
    "    # initialize best average reward\n",
    "    best_avg_reward = -math.inf\n",
    "    # initialize monitor for most recent rewards\n",
    "    samp_rewards = deque(maxlen=100)\n",
    "    \n",
    "    num_acoes = env.action_space.n\n",
    "    Q = defaultdict(lambda : np.zeros(num_acoes))\n",
    "    \n",
    "    for i_episode in range(num_episodes + 1):\n",
    "            \n",
    "        state = env.reset()\n",
    "        epsilon = max(epsilon*eps_decay, eps_min)\n",
    "        \n",
    "        samp_reward = 0\n",
    "        while True:\n",
    "            action = escolher_acao(Q[state], epsilon, num_acoes)\n",
    "            next_state, reward, done, info = env.step(action)\n",
    "            samp_reward += reward\n",
    "            \n",
    "            if not done:\n",
    "                \n",
    "                maior_estimativa = np.argmax(Q[next_state])\n",
    "                estimative = Q[next_state][maior_estimativa]\n",
    "                #estimative  = obter_expected_Q(Q[next_state], epsilon, num_acoes)\n",
    "                Q[state][action], gamma = atualizar_Q(Q[state][action], estimative, reward, alpha, gamma, gamma_uprate, max_gamma)\n",
    "                \n",
    "                state = next_state\n",
    "                \n",
    "            else:\n",
    "                samp_rewards.append(samp_reward)\n",
    "                Q[state][action], gamma = atualizar_Q(Q[state][action], 0, reward, alpha, gamma, gamma_uprate, max_gamma)\n",
    "                break\n",
    "        \n",
    "        if (i_episode >= 100):\n",
    "            # get average reward from last 100 episodes\n",
    "            avg_reward = np.mean(samp_rewards)\n",
    "            # append to deque\n",
    "            avg_rewards.append(avg_reward)\n",
    "            # update best average reward\n",
    "            if avg_reward > best_avg_reward:\n",
    "                best_avg_reward = avg_reward\n",
    "        # monitor progress\n",
    "        print(\"\\rEpisode {}/{} || Best average reward {}\".format(i_episode, num_episodes, best_avg_reward), end=\"\")\n",
    "        sys.stdout.flush()\n",
    "        # check if task is solved (according to OpenAI Gym)\n",
    "        if best_avg_reward >= 9.7:\n",
    "            print('\\nEnvironment solved in {} episodes.'.format(i_episode), end=\"\")\n",
    "            break\n",
    "        if i_episode == num_episodes: print('\\n')\n",
    "            \n",
    "    return Q"
   ]
  },
  {
   "cell_type": "code",
   "execution_count": 6,
   "metadata": {},
   "outputs": [
    {
     "name": "stdout",
     "output_type": "stream",
     "text": [
      "Episode 12000/12000 || Best average reward 8.863\n",
      "\n"
     ]
    }
   ],
   "source": [
    "Q = QLearning(env, num_episodes=12000, gamma=0.40, alpha=1., epsilon = 0.0, eps_min = 0.0)"
   ]
  },
  {
   "cell_type": "code",
   "execution_count": null,
   "metadata": {},
   "outputs": [],
   "source": []
  }
 ],
 "metadata": {
  "kernelspec": {
   "display_name": "Python3.7.2",
   "language": "python",
   "name": "python3.7.2"
  },
  "language_info": {
   "codemirror_mode": {
    "name": "ipython",
    "version": 3
   },
   "file_extension": ".py",
   "mimetype": "text/x-python",
   "name": "python",
   "nbconvert_exporter": "python",
   "pygments_lexer": "ipython3",
   "version": "3.7.2"
  }
 },
 "nbformat": 4,
 "nbformat_minor": 4
}
